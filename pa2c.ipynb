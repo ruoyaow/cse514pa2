{
 "cells": [
  {
   "cell_type": "code",
   "execution_count": 1,
   "id": "initial_id",
   "metadata": {
    "collapsed": true,
    "ExecuteTime": {
     "end_time": "2024-04-02T19:38:10.315021800Z",
     "start_time": "2024-04-02T19:38:07.804906300Z"
    }
   },
   "outputs": [],
   "source": [
    "import pandas as pd\n",
    "\n",
    "\n",
    "# Loading datasets\n",
    "higher_ed_df = pd.read_csv('dataset/subset_higher_ed_ednum.csv')\n",
    "some_college_df = pd.read_csv('dataset/subset_some_college_ednum.csv')\n",
    "less_than_hs_df = pd.read_csv('dataset/subset_less_than_hs_ednum.csv')\n",
    "\n",
    "from sklearn.preprocessing import LabelEncoder\n",
    "\n",
    "\n",
    "# Dropping 'fnlgwt' and 'Education' features from all datasets as they are not useful or duplicated\n",
    "higher_ed_df = higher_ed_df.drop(['fnlgwt', 'Education'], axis=1)\n",
    "some_college_df = some_college_df.drop(['fnlgwt', 'Education'], axis=1)\n",
    "less_than_hs_df = less_than_hs_df.drop(['fnlgwt', 'Education'], axis=1)\n",
    "\n",
    "# Encoding categorical features in all datasets\n",
    "def encode_features(df):\n",
    "    label_encoders = {}\n",
    "    for column in df.select_dtypes(include=['object']).columns:\n",
    "        label_encoders[column] = LabelEncoder()\n",
    "        df[column] = label_encoders[column].fit_transform(df[column])\n",
    "    return df, label_encoders\n",
    "\n",
    "higher_ed_df_encoded, higher_ed_encoders = encode_features(higher_ed_df.copy())\n",
    "some_college_df_encoded, some_college_encoders = encode_features(some_college_df.copy())\n",
    "less_than_hs_df_encoded, less_than_hs_encoders = encode_features(less_than_hs_df.copy())\n",
    "\n",
    "from sklearn.preprocessing import StandardScaler\n",
    "from sklearn.model_selection import cross_val_score\n",
    "import numpy as np\n",
    "import matplotlib.pyplot as plt\n",
    "\n",
    "\n",
    "# Defining the input features and target variable for each subset\n",
    "X_higher_ed = higher_ed_df_encoded.drop('Income', axis=1)\n",
    "y_higher_ed = higher_ed_df_encoded['Income']\n",
    "\n",
    "X_some_college = some_college_df_encoded.drop('Income', axis=1)\n",
    "y_some_college = some_college_df_encoded['Income']\n",
    "\n",
    "X_less_than_hs = less_than_hs_df_encoded.drop('Income', axis=1)\n",
    "y_less_than_hs = less_than_hs_df_encoded['Income']\n",
    "\n",
    "from sklearn.model_selection import train_test_split\n",
    "\n",
    "X_higher_ed_train, X_higher_ed_test, y_higher_ed_train, y_higher_ed_test = train_test_split(X_higher_ed, y_higher_ed, test_size=0.1, random_state=42)\n",
    "\n",
    "X_some_college_train, X_some_college_test, y_some_college_train, y_some_college_test = train_test_split(X_some_college, y_some_college, test_size=0.1, random_state=42)\n",
    "\n",
    "X_less_than_hs_train, X_less_than_hs_test, y_less_than_hs_train, y_less_than_hs_test = train_test_split(X_less_than_hs, y_less_than_hs, test_size=0.1, random_state=42)"
   ]
  },
  {
   "cell_type": "markdown",
   "source": [
    "1. K-Nearest Neighbors (KNN)"
   ],
   "metadata": {
    "collapsed": false
   },
   "id": "5b12f71dcacac109"
  },
  {
   "cell_type": "code",
   "outputs": [
    {
     "name": "stdout",
     "output_type": "stream",
     "text": [
      "Accuracy for Higher Education Subset: 0.7688\n",
      "Classification Report:\n",
      "              precision    recall  f1-score   support\n",
      "\n",
      "           0       0.79      0.74      0.76       569\n",
      "           1       0.75      0.80      0.78       573\n",
      "\n",
      "    accuracy                           0.77      1142\n",
      "   macro avg       0.77      0.77      0.77      1142\n",
      "weighted avg       0.77      0.77      0.77      1142\n",
      "Accuracy for Some College Subset: 0.8416\n",
      "Classification Report:\n",
      "              precision    recall  f1-score   support\n",
      "\n",
      "           0       0.88      0.93      0.91      2306\n",
      "           1       0.58      0.45      0.51       509\n",
      "\n",
      "    accuracy                           0.84      2815\n",
      "   macro avg       0.73      0.69      0.71      2815\n",
      "weighted avg       0.83      0.84      0.83      2815\n",
      "\n",
      "Accuracy for Less than High School Subset: 0.9295\n",
      "Classification Report:\n",
      "              precision    recall  f1-score   support\n",
      "\n",
      "           0       0.93      1.00      0.96       527\n",
      "           1       0.50      0.05      0.09        40\n",
      "\n",
      "    accuracy                           0.93       567\n",
      "   macro avg       0.72      0.52      0.53       567\n",
      "weighted avg       0.90      0.93      0.90       567\n"
     ]
    }
   ],
   "source": [
    "from sklearn.metrics import accuracy_score, classification_report\n",
    "from sklearn.preprocessing import StandardScaler\n",
    "from sklearn.neighbors import KNeighborsClassifier\n",
    "\n",
    "def evaluate_knn(X_train, y_train, X_test, y_test, k, title):\n",
    "    # 标准化训练和测试数据\n",
    "    scaler = StandardScaler()\n",
    "    X_train_scaled = scaler.fit_transform(X_train)\n",
    "    X_test_scaled = scaler.transform(X_test)\n",
    "    \n",
    "    # 使用最佳的 k 值训练模型\n",
    "    knn_clf = KNeighborsClassifier(n_neighbors=k)\n",
    "    knn_clf.fit(X_train_scaled, y_train)\n",
    "    \n",
    "    # 在测试集上进行预测\n",
    "    y_pred = knn_clf.predict(X_test_scaled)\n",
    "    \n",
    "    # 计算并打印性能指标\n",
    "    accuracy = accuracy_score(y_test, y_pred)\n",
    "    print(f'Accuracy for {title}: {accuracy:.4f}')\n",
    "    print('Classification Report:')\n",
    "    print(classification_report(y_test, y_pred))\n",
    "\n",
    "# 对每个子集调用评估函数\n",
    "evaluate_knn(X_higher_ed_train, y_higher_ed_train, X_higher_ed_test, y_higher_ed_test, 9, \"Higher Education Subset\")\n",
    "evaluate_knn(X_some_college_train, y_some_college_train, X_some_college_test, y_some_college_test, 9, \"Some College Subset\")\n",
    "evaluate_knn(X_less_than_hs_train, y_less_than_hs_train, X_less_than_hs_test, y_less_than_hs_test, 9, \"Less than High School Subset\")\n"
   ],
   "metadata": {
    "collapsed": false,
    "ExecuteTime": {
     "end_time": "2024-04-02T19:39:37.035557800Z",
     "start_time": "2024-04-02T19:39:35.552017500Z"
    }
   },
   "id": "241c5eb74352d894",
   "execution_count": 2
  },
  {
   "cell_type": "markdown",
   "source": [
    "2. Artificial Neural Network (ANN)"
   ],
   "metadata": {
    "collapsed": false
   },
   "id": "d01cb6fd3e73e2ab"
  },
  {
   "cell_type": "code",
   "outputs": [
    {
     "name": "stdout",
     "output_type": "stream",
     "text": [
      "Accuracy for Higher Education Subset: 0.8117\n",
      "Classification Report:\n",
      "              precision    recall  f1-score   support\n",
      "\n",
      "           0       0.85      0.76      0.80       569\n",
      "           1       0.78      0.87      0.82       573\n",
      "\n",
      "    accuracy                           0.81      1142\n",
      "   macro avg       0.82      0.81      0.81      1142\n",
      "weighted avg       0.82      0.81      0.81      1142\n",
      "Accuracy for Some College Subset: 0.8547\n",
      "Classification Report:\n",
      "              precision    recall  f1-score   support\n",
      "\n",
      "           0       0.87      0.97      0.92      2306\n",
      "           1       0.70      0.34      0.46       509\n",
      "\n",
      "    accuracy                           0.85      2815\n",
      "   macro avg       0.78      0.66      0.69      2815\n",
      "weighted avg       0.84      0.85      0.83      2815\n",
      "Accuracy for Less than High School Subset: 0.9277\n",
      "Classification Report:\n",
      "              precision    recall  f1-score   support\n",
      "\n",
      "           0       0.94      0.99      0.96       527\n",
      "           1       0.45      0.12      0.20        40\n",
      "\n",
      "    accuracy                           0.93       567\n",
      "   macro avg       0.70      0.56      0.58       567\n",
      "weighted avg       0.90      0.93      0.91       567\n"
     ]
    }
   ],
   "source": [
    "from sklearn.neural_network import MLPClassifier\n",
    "from sklearn.metrics import accuracy_score, classification_report\n",
    "from sklearn.preprocessing import StandardScaler\n",
    "\n",
    "def evaluate_ann(X_train, y_train, X_test, y_test, hidden_layer_size, title):\n",
    "    # 标准化训练和测试数据\n",
    "    scaler = StandardScaler()\n",
    "    X_train_scaled = scaler.fit_transform(X_train)\n",
    "    X_test_scaled = scaler.transform(X_test)\n",
    "    \n",
    "    # 使用最佳的隐藏层配置训练模型\n",
    "    ann_clf = MLPClassifier(hidden_layer_sizes=hidden_layer_size, activation='relu', max_iter=1000)\n",
    "    ann_clf.fit(X_train_scaled, y_train)\n",
    "    \n",
    "    # 在测试集上进行预测\n",
    "    y_pred = ann_clf.predict(X_test_scaled)\n",
    "    \n",
    "    # 计算并打印性能指标\n",
    "    accuracy = accuracy_score(y_test, y_pred)\n",
    "    print(f'Accuracy for {title}: {accuracy:.4f}')\n",
    "    print('Classification Report:')\n",
    "    print(classification_report(y_test, y_pred))\n",
    "\n",
    "# 对每个子集调用评估函数\n",
    "evaluate_ann(X_higher_ed_train, y_higher_ed_train, X_higher_ed_test, y_higher_ed_test, (50,), \"Higher Education Subset\")\n",
    "evaluate_ann(X_some_college_train, y_some_college_train, X_some_college_test, y_some_college_test, (50,), \"Some College Subset\")\n",
    "evaluate_ann(X_less_than_hs_train, y_less_than_hs_train, X_less_than_hs_test, y_less_than_hs_test, (50,), \"Less than High School Subset\")\n"
   ],
   "metadata": {
    "collapsed": false,
    "ExecuteTime": {
     "end_time": "2024-04-02T19:42:20.774174100Z",
     "start_time": "2024-04-02T19:41:56.615476800Z"
    }
   },
   "id": "997a7c3a757d72e1",
   "execution_count": 3
  },
  {
   "cell_type": "markdown",
   "source": [
    "3. Decision Tree"
   ],
   "metadata": {
    "collapsed": false
   },
   "id": "7297c722f8c73464"
  },
  {
   "cell_type": "code",
   "outputs": [
    {
     "name": "stdout",
     "output_type": "stream",
     "text": [
      "Accuracy for Higher Education Subset: 0.8170\n",
      "Classification Report:\n",
      "              precision    recall  f1-score   support\n",
      "\n",
      "           0       0.85      0.77      0.81       569\n",
      "           1       0.79      0.86      0.83       573\n",
      "\n",
      "    accuracy                           0.82      1142\n",
      "   macro avg       0.82      0.82      0.82      1142\n",
      "weighted avg       0.82      0.82      0.82      1142\n",
      "\n",
      "Accuracy for Some College Subset: 0.8529\n",
      "Classification Report:\n",
      "              precision    recall  f1-score   support\n",
      "\n",
      "           0       0.86      0.99      0.92      2306\n",
      "           1       0.81      0.25      0.38       509\n",
      "\n",
      "    accuracy                           0.85      2815\n",
      "   macro avg       0.83      0.62      0.65      2815\n",
      "weighted avg       0.85      0.85      0.82      2815\n",
      "\n",
      "Accuracy for Less than High School Subset: 0.9312\n",
      "Classification Report:\n",
      "              precision    recall  f1-score   support\n",
      "\n",
      "           0       0.93      1.00      0.96       527\n",
      "           1       1.00      0.03      0.05        40\n",
      "\n",
      "    accuracy                           0.93       567\n",
      "   macro avg       0.97      0.51      0.51       567\n",
      "weighted avg       0.94      0.93      0.90       567\n"
     ]
    }
   ],
   "source": [
    "from sklearn.tree import DecisionTreeClassifier\n",
    "from sklearn.metrics import accuracy_score, classification_report\n",
    "\n",
    "def evaluate_decision_tree(X_train, y_train, X_test, y_test, max_depth, title):\n",
    "    # 使用最佳的最大深度配置训练模型\n",
    "    dt_clf = DecisionTreeClassifier(max_depth=max_depth)\n",
    "    dt_clf.fit(X_train, y_train)\n",
    "    \n",
    "    # 在测试集上进行预测\n",
    "    y_pred = dt_clf.predict(X_test)\n",
    "    \n",
    "    # 计算并打印性能指标\n",
    "    accuracy = accuracy_score(y_test, y_pred)\n",
    "    print(f'Accuracy for {title}: {accuracy:.4f}')\n",
    "    print('Classification Report:')\n",
    "    print(classification_report(y_test, y_pred))\n",
    "\n",
    "# 对每个子集调用评估函数\n",
    "evaluate_decision_tree(X_higher_ed_train, y_higher_ed_train, X_higher_ed_test, y_higher_ed_test, 7, \"Higher Education Subset\")\n",
    "evaluate_decision_tree(X_some_college_train, y_some_college_train, X_some_college_test, y_some_college_test, 5, \"Some College Subset\")\n",
    "evaluate_decision_tree(X_less_than_hs_train, y_less_than_hs_train, X_less_than_hs_test, y_less_than_hs_test, 3, \"Less than High School Subset\")\n"
   ],
   "metadata": {
    "collapsed": false,
    "ExecuteTime": {
     "end_time": "2024-04-02T19:44:31.033656100Z",
     "start_time": "2024-04-02T19:44:30.922190500Z"
    }
   },
   "id": "f0a129686568175b",
   "execution_count": 4
  },
  {
   "cell_type": "markdown",
   "source": [
    "4. Random Forest"
   ],
   "metadata": {
    "collapsed": false
   },
   "id": "9d368e5d1d5405d3"
  },
  {
   "cell_type": "code",
   "outputs": [
    {
     "name": "stdout",
     "output_type": "stream",
     "text": [
      "Accuracy for Higher Education Subset: 0.7977\n",
      "Classification Report:\n",
      "              precision    recall  f1-score   support\n",
      "\n",
      "           0       0.79      0.81      0.80       569\n",
      "           1       0.81      0.78      0.80       573\n",
      "\n",
      "    accuracy                           0.80      1142\n",
      "   macro avg       0.80      0.80      0.80      1142\n",
      "weighted avg       0.80      0.80      0.80      1142\n",
      "Accuracy for Some College Subset: 0.8561\n",
      "Classification Report:\n",
      "              precision    recall  f1-score   support\n",
      "\n",
      "           0       0.89      0.94      0.91      2306\n",
      "           1       0.64      0.48      0.55       509\n",
      "\n",
      "    accuracy                           0.86      2815\n",
      "   macro avg       0.76      0.71      0.73      2815\n",
      "weighted avg       0.84      0.86      0.85      2815\n",
      "Accuracy for Less than High School Subset: 0.9330\n",
      "Classification Report:\n",
      "              precision    recall  f1-score   support\n",
      "\n",
      "           0       0.94      0.99      0.97       527\n",
      "           1       0.62      0.12      0.21        40\n",
      "\n",
      "    accuracy                           0.93       567\n",
      "   macro avg       0.78      0.56      0.59       567\n",
      "weighted avg       0.92      0.93      0.91       567\n"
     ]
    }
   ],
   "source": [
    "from sklearn.ensemble import RandomForestClassifier\n",
    "from sklearn.metrics import accuracy_score, classification_report\n",
    "\n",
    "def evaluate_random_forest(X_train, y_train, X_test, y_test, n_estimators, title):\n",
    "    # 使用最佳的树的数量配置训练模型\n",
    "    rf_clf = RandomForestClassifier(n_estimators=n_estimators)\n",
    "    rf_clf.fit(X_train, y_train)\n",
    "    \n",
    "    # 在测试集上进行预测\n",
    "    y_pred = rf_clf.predict(X_test)\n",
    "    \n",
    "    # 计算并打印性能指标\n",
    "    accuracy = accuracy_score(y_test, y_pred)\n",
    "    print(f'Accuracy for {title}: {accuracy:.4f}')\n",
    "    print('Classification Report:')\n",
    "    print(classification_report(y_test, y_pred))\n",
    "\n",
    "# 对每个子集调用评估函数\n",
    "evaluate_random_forest(X_higher_ed_train, y_higher_ed_train, X_higher_ed_test, y_higher_ed_test, 100, \"Higher Education Subset\")\n",
    "evaluate_random_forest(X_some_college_train, y_some_college_train, X_some_college_test, y_some_college_test, 200, \"Some College Subset\")\n",
    "evaluate_random_forest(X_less_than_hs_train, y_less_than_hs_train, X_less_than_hs_test, y_less_than_hs_test, 150, \"Less than High School Subset\")\n"
   ],
   "metadata": {
    "collapsed": false,
    "ExecuteTime": {
     "end_time": "2024-04-02T19:50:24.682301900Z",
     "start_time": "2024-04-02T19:50:16.769956900Z"
    }
   },
   "id": "a1f0dfcf88f89e9d",
   "execution_count": 10
  },
  {
   "cell_type": "markdown",
   "source": [
    "5. Naïve Bayes Classifier"
   ],
   "metadata": {
    "collapsed": false
   },
   "id": "8d67f50dbb73ea1b"
  },
  {
   "cell_type": "code",
   "outputs": [
    {
     "name": "stdout",
     "output_type": "stream",
     "text": [
      "Accuracy for Higher Education Subset: 0.6708\n",
      "Classification Report:\n",
      "              precision    recall  f1-score   support\n",
      "\n",
      "           0       0.62      0.89      0.73       569\n",
      "           1       0.80      0.45      0.58       573\n",
      "\n",
      "    accuracy                           0.67      1142\n",
      "   macro avg       0.71      0.67      0.65      1142\n",
      "weighted avg       0.71      0.67      0.65      1142\n",
      "\n",
      "Accuracy for Some College Subset: 0.8266\n",
      "Classification Report:\n",
      "              precision    recall  f1-score   support\n",
      "\n",
      "           0       0.86      0.94      0.90      2306\n",
      "           1       0.54      0.29      0.38       509\n",
      "\n",
      "    accuracy                           0.83      2815\n",
      "   macro avg       0.70      0.62      0.64      2815\n",
      "weighted avg       0.80      0.83      0.80      2815\n",
      "\n",
      "Accuracy for Less than High School Subset: 0.9083\n",
      "Classification Report:\n",
      "              precision    recall  f1-score   support\n",
      "\n",
      "           0       0.94      0.96      0.95       527\n",
      "           1       0.31      0.25      0.28        40\n",
      "\n",
      "    accuracy                           0.91       567\n",
      "   macro avg       0.63      0.60      0.61       567\n",
      "weighted avg       0.90      0.91      0.90       567\n"
     ]
    }
   ],
   "source": [
    "from sklearn.naive_bayes import GaussianNB\n",
    "from sklearn.metrics import accuracy_score, classification_report\n",
    "from sklearn.preprocessing import StandardScaler\n",
    "\n",
    "def evaluate_naive_bayes(X_train, y_train, X_test, y_test, var_smoothing, title):\n",
    "    # 标准化训练和测试数据\n",
    "    scaler = StandardScaler()\n",
    "    X_train_scaled = scaler.fit_transform(X_train)\n",
    "    X_test_scaled = scaler.transform(X_test)\n",
    "    \n",
    "    # 使用最佳的var_smoothing值配置训练模型\n",
    "    nb_clf = GaussianNB(var_smoothing=var_smoothing)\n",
    "    nb_clf.fit(X_train_scaled, y_train)\n",
    "    \n",
    "    # 在测试集上进行预测\n",
    "    y_pred = nb_clf.predict(X_test_scaled)\n",
    "    \n",
    "    # 计算并打印性能指标\n",
    "    accuracy = accuracy_score(y_test, y_pred)\n",
    "    print(f'Accuracy for {title}: {accuracy:.4f}')\n",
    "    print('Classification Report:')\n",
    "    print(classification_report(y_test, y_pred))\n",
    "\n",
    "# 对每个子集调用评估函数\n",
    "evaluate_naive_bayes(X_higher_ed_train, y_higher_ed_train, X_higher_ed_test, y_higher_ed_test, 1e-5, \"Higher Education Subset\")\n",
    "evaluate_naive_bayes(X_some_college_train, y_some_college_train, X_some_college_test, y_some_college_test, 1e-5, \"Some College Subset\")\n",
    "evaluate_naive_bayes(X_less_than_hs_train, y_less_than_hs_train, X_less_than_hs_test, y_less_than_hs_test, 1e-5, \"Less than High School Subset\")\n"
   ],
   "metadata": {
    "collapsed": false,
    "ExecuteTime": {
     "end_time": "2024-04-02T19:48:06.242061200Z",
     "start_time": "2024-04-02T19:48:06.179472100Z"
    }
   },
   "id": "e602e252c2e6e2c0",
   "execution_count": 7
  },
  {
   "cell_type": "markdown",
   "source": [
    "6. Support Vector Machine (SVM)"
   ],
   "metadata": {
    "collapsed": false
   },
   "id": "7399d7299c6d4950"
  },
  {
   "cell_type": "code",
   "outputs": [
    {
     "name": "stdout",
     "output_type": "stream",
     "text": [
      "Accuracy for Higher Education Subset: 0.8074\n",
      "Classification Report:\n",
      "              precision    recall  f1-score   support\n",
      "\n",
      "           0       0.86      0.73      0.79       569\n",
      "           1       0.77      0.89      0.82       573\n",
      "\n",
      "    accuracy                           0.81      1142\n",
      "   macro avg       0.82      0.81      0.81      1142\n",
      "weighted avg       0.82      0.81      0.81      1142\n",
      "Accuracy for Some College Subset: 0.8515\n",
      "Classification Report:\n",
      "              precision    recall  f1-score   support\n",
      "\n",
      "           0       0.86      0.99      0.92      2306\n",
      "           1       0.79      0.24      0.37       509\n",
      "\n",
      "    accuracy                           0.85      2815\n",
      "   macro avg       0.82      0.61      0.64      2815\n",
      "weighted avg       0.84      0.85      0.82      2815\n",
      "Accuracy for Less than High School Subset: 0.9295\n",
      "Classification Report:\n",
      "              precision    recall  f1-score   support\n",
      "\n",
      "           0       0.93      1.00      0.96       527\n",
      "           1       0.50      0.03      0.05        40\n",
      "\n",
      "    accuracy                           0.93       567\n",
      "   macro avg       0.72      0.51      0.51       567\n",
      "weighted avg       0.90      0.93      0.90       567\n"
     ]
    }
   ],
   "source": [
    "from sklearn.svm import SVC\n",
    "from sklearn.metrics import accuracy_score, classification_report\n",
    "from sklearn.preprocessing import StandardScaler\n",
    "\n",
    "def evaluate_svm(X_train, y_train, X_test, y_test, kernel, title):\n",
    "    # 标准化训练和测试数据\n",
    "    scaler = StandardScaler()\n",
    "    X_train_scaled = scaler.fit_transform(X_train)\n",
    "    X_test_scaled = scaler.transform(X_test)\n",
    "    \n",
    "    # 使用最佳的核函数配置训练模型\n",
    "    svm_clf = SVC(kernel=kernel)\n",
    "    svm_clf.fit(X_train_scaled, y_train)\n",
    "    \n",
    "    # 在测试集上进行预测\n",
    "    y_pred = svm_clf.predict(X_test_scaled)\n",
    "    \n",
    "    # 计算并打印性能指标\n",
    "    accuracy = accuracy_score(y_test, y_pred)\n",
    "    print(f'Accuracy for {title}: {accuracy:.4f}')\n",
    "    print('Classification Report:')\n",
    "    print(classification_report(y_test, y_pred))\n",
    "\n",
    "# 对每个子集调用评估函数\n",
    "evaluate_svm(X_higher_ed_train, y_higher_ed_train, X_higher_ed_test, y_higher_ed_test, 'rbf', \"Higher Education Subset\")\n",
    "evaluate_svm(X_some_college_train, y_some_college_train, X_some_college_test, y_some_college_test, 'rbf', \"Some College Subset\")\n",
    "evaluate_svm(X_less_than_hs_train, y_less_than_hs_train, X_less_than_hs_test, y_less_than_hs_test, 'rbf', \"Less than High School Subset\")\n"
   ],
   "metadata": {
    "collapsed": false,
    "ExecuteTime": {
     "end_time": "2024-04-02T19:49:36.233295300Z",
     "start_time": "2024-04-02T19:49:13.015503400Z"
    }
   },
   "id": "ddc403ecf23a8856",
   "execution_count": 9
  },
  {
   "cell_type": "code",
   "outputs": [],
   "source": [],
   "metadata": {
    "collapsed": false
   },
   "id": "b6d00f1ff4886f7a"
  }
 ],
 "metadata": {
  "kernelspec": {
   "display_name": "Python 3",
   "language": "python",
   "name": "python3"
  },
  "language_info": {
   "codemirror_mode": {
    "name": "ipython",
    "version": 2
   },
   "file_extension": ".py",
   "mimetype": "text/x-python",
   "name": "python",
   "nbconvert_exporter": "python",
   "pygments_lexer": "ipython2",
   "version": "2.7.6"
  }
 },
 "nbformat": 4,
 "nbformat_minor": 5
}
